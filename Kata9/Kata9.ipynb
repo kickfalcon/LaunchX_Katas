{
 "cells": [
  {
   "cell_type": "markdown",
   "metadata": {},
   "source": [
    "# Kata 9\n",
    "\n",
    "Ejercicio 1"
   ]
  },
  {
   "cell_type": "code",
   "execution_count": null,
   "metadata": {},
   "outputs": [],
   "source": [
    "#leer 3 tanques y mostrar promedio\n",
    "def tanks(*args):\n",
    "    total_fuel=sum(args)\n",
    "    number_items=len(args)\n",
    "    average=total_fuel/number_items\n",
    "    return f\"\"\"We have {number_items} tanks.\n",
    "    Main tank: {args[0]} liters.\n",
    "    External tank: {args[1]} liters.\n",
    "    Emergency tank: {args[2]} liters.\n",
    "    On average we have {average} liters\"\"\"\n",
    "tanks(13, 5, 18)\n"
   ]
  },
  {
   "cell_type": "code",
   "execution_count": null,
   "metadata": {},
   "outputs": [],
   "source": [
    "#Funcion de promedio independiente\n",
    "def average_fuel(*args):\n",
    "    fuel=sum(args)\n",
    "    number_tanks=len(args)\n",
    "    return fuel/number_tanks\n",
    "average_fuel(13, 5, 18)"
   ]
  },
  {
   "cell_type": "code",
   "execution_count": null,
   "metadata": {},
   "outputs": [],
   "source": [
    "#Mejora de la funcion\n",
    "def report(**kwargs):\n",
    "    print(f'The Spacheship has: {len(kwargs)}')\n",
    "    for title, liters in kwargs.items():\n",
    "        print(f'{title} has {liters} liters')\n",
    "    l_total=sum(kwargs.values())\n",
    "    m_total=len(kwargs.keys())\n",
    "    t_fuel=l_total/m_total\n",
    "    print(f'On average we have {t_fuel} liter per tank')\n",
    "report(main=40, external_1=5, external_2=10, emergency=20)"
   ]
  },
  {
   "cell_type": "markdown",
   "metadata": {},
   "source": [
    "Ejercicio 2\n"
   ]
  },
  {
   "cell_type": "code",
   "execution_count": 38,
   "metadata": {},
   "outputs": [
    {
     "name": "stdout",
     "output_type": "stream",
     "text": [
      "The crew is leaving the planet on Saturday 20:08 it is expected they will arrive on Monday 23:08\n",
      "We are landing on Moon\n",
      "The Spacheship has: 4 tanks\n",
      "Main has 40 liters\n",
      "External_1 has 5 liters\n",
      "External_2 has 10 liters\n",
      "Emergency has 20 liters\n",
      "On average we have 18.75 liter per tank\n"
     ]
    }
   ],
   "source": [
    "#Mejora de la funcion\n",
    "from datetime import timedelta, datetime\n",
    "now=datetime.now()\n",
    "\n",
    "def arrival_time(hours=51):\n",
    "    arrival=now+timedelta(hours=hours)\n",
    "    return arrival.strftime('%A %H:%M')\n",
    "\n",
    "travel_data={\n",
    "    'destination':'Moon',\n",
    "    'landing_time':arrival_time(),\n",
    "    'launch_time':now.strftime('%A %H:%M'),\n",
    "    \n",
    "}\n",
    "def report(**kwargs):\n",
    "    print(f\"The crew is leaving the planet on {travel_data['launch_time']} it is expected they will arrive on {travel_data['landing_time']}\")\n",
    "    print(f\"We are landing on {travel_data ['destination']}\")\n",
    "    print(f'The Spacheship has: {len(kwargs)} tanks')\n",
    "    for title, liters in kwargs.items():\n",
    "        print(f'{title.capitalize()} has {liters} liters')\n",
    "    l_total=sum(kwargs.values())\n",
    "    m_total=len(kwargs.keys())\n",
    "    t_fuel=l_total/m_total\n",
    "    print(f'On average we have {t_fuel} liter per tank')\n",
    "report(main=40, external_1=5, external_2=10, emergency=20)"
   ]
  }
 ],
 "metadata": {
  "interpreter": {
   "hash": "ef1a5d0b392b78fa6b938496ed158b31a5708e64beeadf2ab287f2b43192d531"
  },
  "kernelspec": {
   "display_name": "Python 3.10.2 64-bit",
   "language": "python",
   "name": "python3"
  },
  "language_info": {
   "codemirror_mode": {
    "name": "ipython",
    "version": 3
   },
   "file_extension": ".py",
   "mimetype": "text/x-python",
   "name": "python",
   "nbconvert_exporter": "python",
   "pygments_lexer": "ipython3",
   "version": "3.10.2"
  },
  "orig_nbformat": 4
 },
 "nbformat": 4,
 "nbformat_minor": 2
}

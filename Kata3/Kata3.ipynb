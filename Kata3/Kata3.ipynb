{
 "cells": [
  {
   "cell_type": "markdown",
   "metadata": {},
   "source": [
    "##Ejercicio: escribir declaraciones if,else y elif"
   ]
  },
  {
   "cell_type": "code",
   "execution_count": 1,
   "metadata": {},
   "outputs": [
    {
     "name": "stdout",
     "output_type": "stream",
     "text": [
      "Danger! Asteroid coming!\n"
     ]
    }
   ],
   "source": [
    "# Problema 1\n",
    "#El asteroide tiene una velocidad superior a 25km/s\n",
    "vel_asteroide=49\n",
    "if vel_asteroide >= 25:\n",
    "    print(\"Danger! Asteroid coming!\")\n",
    "else:\n",
    "    print(\"Everything is ok\")\n"
   ]
  },
  {
   "cell_type": "code",
   "execution_count": 2,
   "metadata": {},
   "outputs": [
    {
     "name": "stdout",
     "output_type": "stream",
     "text": [
      "Everything is ok\n"
     ]
    }
   ],
   "source": [
    "#Problema 2\n",
    "#El asteroide entra a la atmosfera con una velocidad mayor o igual a 20km/s\n",
    "vel_asteroide=19\n",
    "if vel_asteroide > 20:\n",
    "    print(\"Hay una luz extraña en cielo\")\n",
    "elif vel_asteroide == 20:\n",
    "    print(\"Hay una luz extraña en cielo\")\n",
    "else:\n",
    "    print(\"Everything is ok\")"
   ]
  },
  {
   "cell_type": "code",
   "execution_count": 5,
   "metadata": {},
   "outputs": [
    {
     "name": "stdout",
     "output_type": "stream",
     "text": [
      "Danger! Danger!\n"
     ]
    }
   ],
   "source": [
    "#Problema 3\n",
    "#Considerar la velocidad y el tamaño del asteroide\n",
    "asteroid_size=60\n",
    "asteorid_vel=80\n",
    "if asteorid_vel>=25 and asteroid_size > 25:\n",
    "    print(\"Danger! Danger!\")\n",
    "elif asteorid_vel >=20:\n",
    "    print(\"Un destello apareció en el cielo\")\n",
    "elif asteroid_size < 25:\n",
    "    print(\"No hay peligro\")\n",
    "else:\n",
    "    print(\"No hay peligro\")"
   ]
  }
 ],
 "metadata": {
  "interpreter": {
   "hash": "ef1a5d0b392b78fa6b938496ed158b31a5708e64beeadf2ab287f2b43192d531"
  },
  "kernelspec": {
   "display_name": "Python 3.10.2 64-bit",
   "language": "python",
   "name": "python3"
  },
  "language_info": {
   "codemirror_mode": {
    "name": "ipython",
    "version": 3
   },
   "file_extension": ".py",
   "mimetype": "text/x-python",
   "name": "python",
   "nbconvert_exporter": "python",
   "pygments_lexer": "ipython3",
   "version": "3.10.2"
  },
  "orig_nbformat": 4
 },
 "nbformat": 4,
 "nbformat_minor": 2
}

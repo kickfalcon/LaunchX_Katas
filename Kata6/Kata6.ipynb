{
 "cells": [
  {
   "cell_type": "markdown",
   "metadata": {},
   "source": [
    "Kata 6\n",
    "\n",
    "Ejercicio 1"
   ]
  },
  {
   "cell_type": "code",
   "execution_count": 2,
   "metadata": {},
   "outputs": [
    {
     "name": "stdout",
     "output_type": "stream",
     "text": [
      "Los planetas del sistema solar son ['Mercury', 'Venus', 'Earth', 'Mars', 'Jupiter', 'Saturn', 'Uranus', 'Neptune']\n",
      "El numero de planetas en el sistema solar es  8\n"
     ]
    }
   ],
   "source": [
    "#Numero de planetas\n",
    "planets=['Mercury','Venus','Earth','Mars','Jupiter','Saturn','Uranus','Neptune']\n",
    "number_planets=len(planets)\n",
    "print('Los planetas del sistema solar son',planets)\n",
    "print('El numero de planetas en el sistema solar es ',number_planets)"
   ]
  },
  {
   "cell_type": "code",
   "execution_count": 11,
   "metadata": {},
   "outputs": [
    {
     "name": "stdout",
     "output_type": "stream",
     "text": [
      "El ultimo planeta es Pluton\n",
      "El numero de planetas en el sistema solar es  9\n"
     ]
    }
   ],
   "source": [
    "#Añadimos un elemento y lo mostramos\n",
    "planets.append('Pluton')\n",
    "number_planets=len(planets)\n",
    "print('El ultimo planeta es',planets[-1])\n",
    "print('El numero de planetas en el sistema solar es ',number_planets)"
   ]
  },
  {
   "cell_type": "markdown",
   "metadata": {},
   "source": [
    "Ejercicio 2"
   ]
  },
  {
   "cell_type": "code",
   "execution_count": 6,
   "metadata": {},
   "outputs": [
    {
     "name": "stdout",
     "output_type": "stream",
     "text": [
      "7\n",
      "Planetas mas cercanos que Neptune son ['Mercury', 'Venus', 'Earth', 'Mars', 'Jupiter', 'Saturn', 'Uranus']\n",
      "Planetas mas lejanos Neptune son []\n"
     ]
    }
   ],
   "source": [
    "planets=['Mercury','Venus','Earth','Mars','Jupiter','Saturn','Uranus','Neptune']\n",
    "#Solicitar planeta al usuario\n",
    "p=input('Escribe un planeta, la primera letra debe ser mayuscula: ')\n",
    "#Buscamos el planeta en la lista\n",
    "p_index=planets.index(p)\n",
    "print(p_index)\n",
    "#Planetas cercanos\n",
    "print('Planetas mas cercanos que', planets[p_index],'son', planets[0:p_index])\n",
    "#Planetas lejanos\n",
    "print('Planetas mas lejanos', planets[p_index] ,'son', planets[p_index+1:])"
   ]
  }
 ],
 "metadata": {
  "interpreter": {
   "hash": "ef1a5d0b392b78fa6b938496ed158b31a5708e64beeadf2ab287f2b43192d531"
  },
  "kernelspec": {
   "display_name": "Python 3.10.2 64-bit",
   "language": "python",
   "name": "python3"
  },
  "language_info": {
   "codemirror_mode": {
    "name": "ipython",
    "version": 3
   },
   "file_extension": ".py",
   "mimetype": "text/x-python",
   "name": "python",
   "nbconvert_exporter": "python",
   "pygments_lexer": "ipython3",
   "version": "3.10.2"
  },
  "orig_nbformat": 4
 },
 "nbformat": 4,
 "nbformat_minor": 2
}

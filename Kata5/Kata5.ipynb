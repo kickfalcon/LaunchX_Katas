{
 "cells": [
  {
   "cell_type": "markdown",
   "metadata": {},
   "source": [
    "##Kata 5\n",
    "\n",
    "Ejercicio 1"
   ]
  },
  {
   "cell_type": "code",
   "execution_count": 4,
   "metadata": {},
   "outputs": [
    {
     "name": "stdout",
     "output_type": "stream",
     "text": [
      "628949330\n",
      "390577534\n"
     ]
    }
   ],
   "source": [
    "from math import ceil\n",
    "earth=149597870 #km\n",
    "jupiter=778547200 #km\n",
    "d=jupiter-earth\n",
    "d_mil=d*0.621\n",
    "print(d)\n",
    "print(ceil(d_mil))\n"
   ]
  },
  {
   "cell_type": "markdown",
   "metadata": {},
   "source": [
    "Ejercicio 2"
   ]
  },
  {
   "cell_type": "code",
   "execution_count": 3,
   "metadata": {},
   "outputs": [
    {
     "name": "stdout",
     "output_type": "stream",
     "text": [
      "-4437200000\n",
      "4437200000\n",
      "-2755501200\n",
      "2755501200\n"
     ]
    }
   ],
   "source": [
    "d1=input('Introduce la distancia del primer planeta: ')\n",
    "d2=input('Introduce la distancia del segundo planeta: ')\n",
    "first_planet=int(d1)\n",
    "second_planet=int(d2)\n",
    "dt=second_planet-first_planet\n",
    "dt_m=dt*0.621\n",
    "print(dt)\n",
    "print(abs(dt))\n",
    "print(round(dt_m))\n",
    "print(abs(round(dt_m)))\n"
   ]
  }
 ],
 "metadata": {
  "interpreter": {
   "hash": "ef1a5d0b392b78fa6b938496ed158b31a5708e64beeadf2ab287f2b43192d531"
  },
  "kernelspec": {
   "display_name": "Python 3.10.2 64-bit",
   "language": "python",
   "name": "python3"
  },
  "language_info": {
   "codemirror_mode": {
    "name": "ipython",
    "version": 3
   },
   "file_extension": ".py",
   "mimetype": "text/x-python",
   "name": "python",
   "nbconvert_exporter": "python",
   "pygments_lexer": "ipython3",
   "version": "3.10.2"
  },
  "orig_nbformat": 4
 },
 "nbformat": 4,
 "nbformat_minor": 2
}
